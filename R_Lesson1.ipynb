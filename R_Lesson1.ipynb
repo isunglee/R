{
 "cells": [
  {
   "cell_type": "markdown",
   "metadata": {},
   "source": [
    "## Download R & Rstudio\n",
    "\n",
    "* R https://cran.r-project.org/\n",
    "* Rstudio https://www.rstudio.com/\n",
    "* ipython notebook https://www.continuum.io/blog/developer/jupyter-and-conda-r\n",
    "\n",
    "## Why R?\n",
    "\n",
    "* http://www.kdnuggets.com/2015/05/r-vs-python-data-science.html\n",
    "* http://www.kdnuggets.com/2015/05/poll-r-rapidminer-python-big-data-spark.html\n",
    "\n",
    "## Application of R:\n",
    "\n",
    "* statistic analysis\n",
    "* linear regression\n",
    "* facilal detection https://www.kaggle.com/c/facial-keypoints-detection/details/getting-started-with-r\n",
    "* text mining http://rstudio-pubs-static.s3.amazonaws.com/12422_b2b48bb2da7942acaca5ace45bd8c60c.html\n",
    "\n",
    "## Atomic class\n",
    "\n",
    "* num: 1,1.2\n",
    "* integer: 1L\n",
    "* character: \"1\"\n",
    "* logical: TRUE\n",
    "* complex: 1+4i\n",
    "\n",
    "## data structure\n",
    "\n",
    "* vector\n",
    " * not allow different type of component: it'll transform automatically\n",
    "* matrix\n",
    "* factor\n",
    "* data frame\n",
    "* list\n",
    "\n",
    "## Basic computing"
   ]
  },
  {
   "cell_type": "code",
   "execution_count": null,
   "metadata": {
    "collapsed": true
   },
   "outputs": [],
   "source": [
    "# num: +-*/%%\n",
    "1:9\n",
    "sum()\n",
    "max()\n",
    "mean()\n",
    "median()\n",
    "# string:\n",
    "paste(\"paste\",\"me\")\n",
    "paste(\"paste\",\"me\",sep=\"\")\n",
    "paste(\"paste\",\"me\",sep=\";\")\n",
    "paste0(\"paste\",\"me\")\n",
    "paste( c(\"A\",\"B\"), c(\"C\",\"D\") ,sep=\"\")\n",
    "paste( c(\"A\",\"B\"), c(\"C\",\"D\") ,collapse=\"\")\n",
    "paste( c(\"A\",\"B\"), c(\"C\",\"D\") ,sep=\"\",collapse=\"\")\n",
    "# lookup data type/structure:\n",
    "typeof()\n",
    "class()\n",
    "str()"
   ]
  },
  {
   "cell_type": "markdown",
   "metadata": {},
   "source": [
    "## Vector"
   ]
  },
  {
   "cell_type": "code",
   "execution_count": null,
   "metadata": {
    "collapsed": true
   },
   "outputs": [],
   "source": [
    "x = vector()\n",
    "# with a length and type\n",
    "vector(\"character\", length = 10)\n",
    "character(5)  ## character vector of length 5\n",
    "numeric(5)\n",
    "logical(5)\n",
    "x1 = c(1L, 2L, 3L)\n",
    "x2 = c(0, 1L, \"a\", TRUE, 1 + (1+2i))\n",
    "\n",
    "# vector expand\n",
    "append(a,2)\n",
    "c(a,2)  #use this"
   ]
  },
  {
   "cell_type": "markdown",
   "metadata": {},
   "source": [
    "## Calculate BMI"
   ]
  },
  {
   "cell_type": "code",
   "execution_count": null,
   "metadata": {
    "collapsed": true
   },
   "outputs": [],
   "source": [
    "# 曾經是笨小孩\n",
    "h_brian = 180\n",
    "h_tony = 169\n",
    "h_sherry = 173\n",
    "w_brian = 73\n",
    "w_tony = 87\n",
    "w_sherry = 43\n",
    "b_brian = 73/(180/100)^2\n",
    "b_tony = \n",
    "\n",
    "# for loop\n",
    "weight = c(73,87,43)\n",
    "height = c(180,169,173)\n",
    "for(i in 1:3){\n",
    "        print(weight[i]/((height[i])/100)^2)\n",
    "}\n",
    "\n",
    "# smart\n",
    "weight/((height/100)^2)"
   ]
  },
  {
   "cell_type": "markdown",
   "metadata": {},
   "source": [
    "## \"=\" vs \"<-\""
   ]
  },
  {
   "cell_type": "code",
   "execution_count": null,
   "metadata": {
    "collapsed": true
   },
   "outputs": [],
   "source": [
    "func_name = function(a){\n",
    "        print(a)\n",
    "}\n",
    "\n",
    "func_name2 = function(a=1){\n",
    "        print(a)\n",
    "}\n",
    "\n",
    "func_name3 = function(a<-1){\n",
    "        print(a)\n",
    "}\n",
    "\n",
    "func_name4 = function(a=1){\n",
    "        b<<-5\n",
    "        print(a)\n",
    "}"
   ]
  },
  {
   "cell_type": "markdown",
   "metadata": {},
   "source": [
    "## Matrix"
   ]
  },
  {
   "cell_type": "code",
   "execution_count": null,
   "metadata": {
    "collapsed": true
   },
   "outputs": [],
   "source": [
    "# syntax\n",
    "matrix(1:9, byrow=TRUE, nrow=3)\n",
    "matrix(1:9, nrow=3)\n",
    "kevin = c(85,73)\n",
    "marry = c(72,64)\n",
    "jerry = c(59,66)\n",
    "mat = matrix(c(kevin, marry, jerry), nrow=3, byrow= TRUE)\n",
    "colnames(mat) = c('first', 'second')\n",
    "rownames(mat) = c('kevin', 'marry', 'jerry')\n",
    "\n",
    "# basic\n",
    "dim(mat)\n",
    "nrow(mat)\n",
    "ncol(mat)\n",
    "mat[1,]\n",
    "mat[,1]\n",
    "mat[1:2,]\n",
    "rowSums(mat)\n",
    "colSums(mat)\n",
    "\n",
    "# insert new value\n",
    "mat2 = rbind(mat, c(78,63))\n",
    "rownames(mat2)[nrow(mat2)] = 'sam'\n",
    "mat2\n",
    "\n",
    "mat3 = cbind(mat2,c(82,77,70,64))\n",
    "colnames(mat3)[ncol(mat3)] = 'third'\n",
    "mat3\n",
    "\n",
    "# arithmetic\n",
    "m1 = matrix(1:4, byrow=TRUE, nrow=2)\n",
    "m2 = matrix(5:8, byrow=TRUE, nrow=2)\n",
    "m1 + m2\n",
    "m1 - m2\n",
    "m1 * m2\n",
    "m1 / m2\n",
    "\n",
    "# matrix multiplication - row number of m1 == col number of m2\n",
    "nrow(m1) == ncol(m2)\n",
    "m1 %*% m2"
   ]
  },
  {
   "cell_type": "markdown",
   "metadata": {},
   "source": [
    "## Factor"
   ]
  },
  {
   "cell_type": "code",
   "execution_count": null,
   "metadata": {
    "collapsed": true
   },
   "outputs": [],
   "source": [
    "# syntax\n",
    "weather= c(\"sunny\",\"rainy\", \"cloudy\", \"rainy\", \"cloudy\")\n",
    "weather_category = factor(weather)\n",
    "weather_category\n",
    "\n",
    "# order\n",
    "temperature = c(\"Low\", \"High\", \"High\", \"Medium\", \"Low\", \"Medium\")\n",
    "temperature_category = factor(temperature, order = TRUE, levels = c(\"Low\", \"Medium\", \"High\"))\n",
    "temperature_category\n",
    "temperature_category[3] > temperature_category[1]\n",
    "temperature_category[4] > temperature_category[3]\n",
    "\n",
    "# change levels name\n",
    "weather= c(\"s\",\"r\", \"c\", \"r\", \"c\")\n",
    "weather_factor = factor(weather)\n",
    "levels(weather_factor) = c(\"cloudy\",\"rainy\",\"sunny\")\n",
    "weather_factor"
   ]
  },
  {
   "cell_type": "markdown",
   "metadata": {},
   "source": [
    "## Data Frame"
   ]
  },
  {
   "cell_type": "code",
   "execution_count": null,
   "metadata": {
    "collapsed": true
   },
   "outputs": [],
   "source": [
    "# syntax\n",
    "df = data.frame(a=c(201,196,213,196,218),b=c(108.9,94.8,115.7,95.3,112.5))\n",
    "colnames(df) = c(\"height\",\"weight\")\n",
    "df_name = data.frame(name=c(\"Quincy\",\"Jordan\",\"Steven\",\"Arron\",\"Alexis\"),\n",
    "                    stringsAsFactors=FALSE)\n",
    "df_with_name = cbind(df_name,df)\n",
    "\n",
    "# merge\n",
    "df_team = data.frame(name=c(\"Quincy\",\"Jordan\",\"Steven\",\"Arron\",\"Alexis\"),\n",
    "                     team=c(\"kings\",\"Grizzlies\",\"Thunder\",\"knicks\",\"Hornets\"))\n",
    "df_with_team = merge(df_with_name,df_team,by=\"name\")\n",
    "df_team2 = df_team\n",
    "colnames(df_team2)[1]=\"nam\"\n",
    "merge(df_with_name,df_team2,by.x = \"name\",by.y=\"nam\")\n",
    "\n",
    "df_team3 = cbind(df_team,df_with_name[,2])\n",
    "colnames(df_team3)[3]=\"height\"\n",
    "merge(df_with_name,df_team3,by=\"name\")\n",
    "\n",
    "# pick value\n",
    "df_team2 = df_team\n",
    "colnames(df_team2)[1]=\"nam\"\n",
    "merge(df_with_name,df_team2,by.x = \"name\",by.y=\"nam\")\n",
    "\n",
    "df_team3 = cbind(df_team,df_with_name[,2])\n",
    "colnames(df_team3)[3]=\"height\"\n",
    "merge(df_with_name,df_team3,by=\"name\")\n",
    "\n",
    "bool = c(TRUE,TRUE,FALSE,FALSE,FALSE)\n",
    "df_with_name[bool,]\n",
    "which(df_with_name$name == \"Jordan\")\n",
    "which(bool)\n",
    "\n",
    "with(df_with_name, df_with_name[name==\"Jordan\",])\n",
    "df_with_name[which(df_with_name$name == \"Jordan\"),]\n",
    "\n",
    "head(df_with_name,1)\n",
    "tail(df_with_name,1)\n",
    "df_with_name[1]\n",
    "df_with_name$name\n",
    "df_with_name[\"name\"]\n",
    "df_with_name[1,]\n",
    "df_with_name[,1]\n",
    "df_with_name[[1]]\n",
    "df_with_name[1:2]\n",
    "df_with_name[,1:2]\n",
    "df_with_name[1,\"name\"]\n",
    "df_with_name[df_with_name[\"name\"]==\"Jordan\",]\n",
    "df_with_name[which(df_with_name$name == \"Jordan\"),]\n",
    "with(df_with_name, df_with_name[name==\"Jordan\",])\n",
    "\n",
    "# order\n",
    "order(df_with_name$name)\n",
    "df_with_name[order(df_with_name$name),]\n",
    "df_with_name[1:3,]\n",
    "df_with_name[c(1,3,5),]\n",
    "\n",
    "# library vs require\n",
    "library(dplyr)\n",
    "if(!require(dplyr)){\n",
    "        install.packages(dplyr)\n",
    "}\n",
    "\n",
    "# dplyr\n",
    "df_with_name[c(\"name\",\"height\")]\n",
    "select(df_with_name,name,height)\n",
    "##################################\n",
    "df_with_name[df_with_name[\"name\"]==\"Jordan\",]\n",
    "filter(df_with_name, name==\"Jordan\")\n",
    "##################################\n",
    "df_with_name[order(df_with_name[\"name\"]),]\n",
    "arrange(df_with_name, name)\n",
    "##################################\n",
    "mutate(df_with_name, BMI=weight/(height/100)^2)"
   ]
  },
  {
   "cell_type": "markdown",
   "metadata": {},
   "source": [
    "## Flow Control"
   ]
  },
  {
   "cell_type": "code",
   "execution_count": null,
   "metadata": {
    "collapsed": true
   },
   "outputs": [],
   "source": [
    "x=5;\n",
    "if(x>3){\n",
    "  print\n",
    "  (\"x > 3\");\n",
    "}else{\n",
    "  print\n",
    "  (\"x <= 3\");\n",
    "}\n",
    "\n",
    "x=5;\n",
    "if(x>3){\n",
    "  print (\"x > 3\");\n",
    "} else if (x ==3){\n",
    "  print (\"x == 3\");\n",
    "}else{\n",
    "  print\n",
    "  (\"x <= 3\");\n",
    "}\n",
    "\n",
    "for(i in 1:10){\n",
    "  print(i);\n",
    "}\n",
    "\n",
    "sum=0\n",
    "for(i in 1:100){\n",
    "  sum= sum+ i;\n",
    "}\n",
    "sum\n",
    "\n",
    "sum(1:100)\n",
    "\n",
    "ary = rep(NA, 100)\n",
    "for(i in 1:100){\n",
    "  ary[i]= i;\n",
    "}\n",
    "ary\n",
    "\n",
    "ary2 =c()\n",
    "for(i in 1:100){\n",
    "  ary2 = c(ary2, i);\n",
    "}\n",
    "ary2\n",
    "\n",
    "seq_len(5)\n",
    "\n",
    "mat = matrix(1:9, byrow=TRUE, nrow=3)\n",
    "for(i in seq_len(nrow(mat))) {\n",
    "  for(j in seq_len(ncol(mat))) {\n",
    "    cat(mat[i, j], \" \")\n",
    "  }\n",
    "  cat('\\n');\n",
    "}\n",
    "\n",
    "sum = 0;\n",
    "cnt = 0;\n",
    "while(cnt <= 100){\n",
    "  sum = sum + cnt;\n",
    "  cnt = cnt + 1;\n",
    "}\n",
    "sum"
   ]
  },
  {
   "cell_type": "markdown",
   "metadata": {},
   "source": [
    "## 9*9"
   ]
  },
  {
   "cell_type": "code",
   "execution_count": null,
   "metadata": {
    "collapsed": true
   },
   "outputs": [],
   "source": [
    "## 無知的小孩\n",
    "m99 = matrix(NA,nrow=9,ncol=9)\n",
    "for(i in 1:9){\n",
    "        r99 = vector()\n",
    "        for(j in 1:9){\n",
    "                r99 = c(r99,(i*j))\n",
    "        }\n",
    "        m99[i,] = r99\n",
    "}\n",
    "colnames(m99) = m99[,1]\n",
    "rownames(m99) = m99[1,]\n",
    "\n",
    "## use %*%\n",
    "x = 1:9\n",
    "x = matrix(1:9,nrow=9,byrow=TRUE)\n",
    "m99 = x %*% t(x)\n",
    "rownames(m99) = x\n",
    "colnames(m99) = x\n",
    "\n",
    "## use %o%\n",
    "x = 1:9\n",
    "names(x) = x\n",
    "x %o% x"
   ]
  },
  {
   "cell_type": "code",
   "execution_count": null,
   "metadata": {
    "collapsed": true
   },
   "outputs": [],
   "source": []
  }
 ],
 "metadata": {
  "kernelspec": {
   "display_name": "Python 2",
   "language": "python",
   "name": "python2"
  },
  "language_info": {
   "codemirror_mode": {
    "name": "ipython",
    "version": 2
   },
   "file_extension": ".py",
   "mimetype": "text/x-python",
   "name": "python",
   "nbconvert_exporter": "python",
   "pygments_lexer": "ipython2",
   "version": "2.7.11"
  }
 },
 "nbformat": 4,
 "nbformat_minor": 0
}
